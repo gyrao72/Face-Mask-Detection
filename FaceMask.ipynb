{
  "nbformat": 4,
  "nbformat_minor": 0,
  "metadata": {
    "colab": {
      "name": "FaceMask.ipynb",
      "provenance": [],
      "mount_file_id": "1gN-0nzuPC6Kts3noTBSPWmRJR2Az-CMb",
      "authorship_tag": "ABX9TyPyWxYM78LLOrLKrN+nWzPf",
      "include_colab_link": true
    },
    "kernelspec": {
      "name": "python3",
      "display_name": "Python 3"
    },
    "language_info": {
      "name": "python"
    },
    "accelerator": "GPU"
  },
  "cells": [
    {
      "cell_type": "markdown",
      "metadata": {
        "id": "view-in-github",
        "colab_type": "text"
      },
      "source": [
        "<a href=\"https://colab.research.google.com/github/gyrao72/Face-Mask-Detection/blob/main/FaceMask.ipynb\" target=\"_parent\"><img src=\"https://colab.research.google.com/assets/colab-badge.svg\" alt=\"Open In Colab\"/></a>"
      ]
    },
    {
      "cell_type": "code",
      "metadata": {
        "id": "hh7KM-tfmnv2"
      },
      "source": [
        "import pandas as pd"
      ],
      "execution_count": null,
      "outputs": []
    },
    {
      "cell_type": "code",
      "metadata": {
        "id": "8uCnJ_FTIA91"
      },
      "source": [
        "from tensorflow.keras.preprocessing.image import ImageDataGenerator\n",
        "from tensorflow.keras.applications import MobileNetV2\n",
        "from tensorflow.keras.layers import AveragePooling2D\n",
        "from tensorflow.keras.layers import Dropout\n",
        "from tensorflow.keras.layers import Flatten\n",
        "from tensorflow.keras.layers import Dense\n",
        "from tensorflow.keras.layers import Input\n",
        "from tensorflow.keras.models import Model\n",
        "from tensorflow.keras.optimizers import Adam\n",
        "from tensorflow.keras.applications.mobilenet_v2 import preprocess_input\n",
        "from tensorflow.keras.preprocessing.image import img_to_array\n",
        "from tensorflow.keras.preprocessing.image import load_img\n",
        "from tensorflow.keras.utils import to_categorical\n",
        "from sklearn.preprocessing import LabelBinarizer\n",
        "from sklearn.model_selection import train_test_split\n",
        "from sklearn.metrics import classification_report\n",
        "from imutils import paths\n",
        "import matplotlib.pyplot as plt\n",
        "import numpy as np\n",
        "import os"
      ],
      "execution_count": 1,
      "outputs": []
    },
    {
      "cell_type": "code",
      "metadata": {
        "id": "Susn5qKGIE4-"
      },
      "source": [
        "INIT_LR = 1e-4\n",
        "EPOCHS = 20\n",
        "BS = 32"
      ],
      "execution_count": 2,
      "outputs": []
    },
    {
      "cell_type": "code",
      "metadata": {
        "id": "-_w3H4eNIJcm"
      },
      "source": [
        "DIRECTORY = \"drive/MyDrive/FaceMaskdata/dataset\"\n",
        "CATEGORIES = [\"with_mask\", \"without_mask\"]"
      ],
      "execution_count": 3,
      "outputs": []
    },
    {
      "cell_type": "code",
      "metadata": {
        "id": "8YHtmh_sOF5r"
      },
      "source": [
        "data = []\n",
        "labels = []"
      ],
      "execution_count": 4,
      "outputs": []
    },
    {
      "cell_type": "code",
      "metadata": {
        "colab": {
          "base_uri": "https://localhost:8080/"
        },
        "id": "XpakEWjLOKrS",
        "outputId": "fce8b78a-135a-4773-edf6-777e38a33087"
      },
      "source": [
        "for category in CATEGORIES:\n",
        "    path = os.path.join(DIRECTORY, category)\n",
        "    for img in os.listdir(path):\n",
        "    \timg_path = os.path.join(path, img)\n",
        "    \timage = load_img(img_path, target_size=(224, 224))\n",
        "    \timage = img_to_array(image)\n",
        "    \timage = preprocess_input(image)\n",
        "\n",
        "    \tdata.append(image)\n",
        "    \tlabels.append(category)"
      ],
      "execution_count": 5,
      "outputs": [
        {
          "output_type": "stream",
          "name": "stderr",
          "text": [
            "/usr/local/lib/python3.7/dist-packages/PIL/Image.py:960: UserWarning: Palette images with Transparency expressed in bytes should be converted to RGBA images\n",
            "  \"Palette images with Transparency expressed in bytes should be \"\n"
          ]
        }
      ]
    },
    {
      "cell_type": "code",
      "metadata": {
        "id": "EkROwPpcR8JZ"
      },
      "source": [
        "lb = LabelBinarizer()\n",
        "labels = lb.fit_transform(labels)\n",
        "labels = to_categorical(labels)"
      ],
      "execution_count": 6,
      "outputs": []
    },
    {
      "cell_type": "code",
      "metadata": {
        "id": "hbQxeC7BSDqY"
      },
      "source": [
        "data = np.array(data, dtype=\"float32\")\n",
        "labels = np.array(labels)"
      ],
      "execution_count": 7,
      "outputs": []
    },
    {
      "cell_type": "code",
      "metadata": {
        "id": "0yQhnvm7SMJd"
      },
      "source": [
        "(trainX, testX, trainY, testY) = train_test_split(data, labels,test_size=0.20, stratify=labels, random_state=42)"
      ],
      "execution_count": 8,
      "outputs": []
    },
    {
      "cell_type": "code",
      "metadata": {
        "id": "A2Fd8urWSSGa"
      },
      "source": [
        "# construct the training image generator for data augmentation\n",
        "aug = ImageDataGenerator(\n",
        "\t  rotation_range=20,\n",
        "\t  zoom_range=0.15,\n",
        "\t  width_shift_range=0.2,\n",
        "\t  height_shift_range=0.2,\n",
        "\t  shear_range=0.15,\n",
        "\t  horizontal_flip=True,\n",
        "\t  fill_mode=\"nearest\"\n",
        "  )"
      ],
      "execution_count": 9,
      "outputs": []
    },
    {
      "cell_type": "code",
      "metadata": {
        "colab": {
          "base_uri": "https://localhost:8080/"
        },
        "id": "ZDqc-W-DSbFs",
        "outputId": "0c96cdcd-8b55-4848-fafd-d33199ec9468"
      },
      "source": [
        "# load the MobileNetV2 network, ensuring the head FC layer sets are\n",
        "# left off\n",
        "baseModel = MobileNetV2(weights=\"imagenet\", include_top=False,input_tensor=Input(shape=(224, 224, 3)))"
      ],
      "execution_count": 10,
      "outputs": [
        {
          "output_type": "stream",
          "name": "stdout",
          "text": [
            "WARNING:tensorflow:`input_shape` is undefined or non-square, or `rows` is not in [96, 128, 160, 192, 224]. Weights for input shape (224, 224) will be loaded as the default.\n",
            "Downloading data from https://storage.googleapis.com/tensorflow/keras-applications/mobilenet_v2/mobilenet_v2_weights_tf_dim_ordering_tf_kernels_1.0_224_no_top.h5\n",
            "9412608/9406464 [==============================] - 0s 0us/step\n",
            "9420800/9406464 [==============================] - 0s 0us/step\n"
          ]
        }
      ]
    },
    {
      "cell_type": "code",
      "metadata": {
        "id": "TU0cCzBfSkUn"
      },
      "source": [
        "# construct the head of the model that will be placed on top of the\n",
        "# the base model\n",
        "headModel = baseModel.output\n",
        "headModel = AveragePooling2D(pool_size=(7, 7))(headModel)\n",
        "headModel = Flatten(name=\"flatten\")(headModel)\n",
        "headModel = Dense(128, activation=\"relu\")(headModel)\n",
        "headModel = Dropout(0.5)(headModel)\n",
        "headModel = Dense(2, activation=\"softmax\")(headModel)"
      ],
      "execution_count": 11,
      "outputs": []
    },
    {
      "cell_type": "code",
      "metadata": {
        "id": "B2rW42NXSr7J"
      },
      "source": [
        "# place the head FC model on top of the base model (this will become\n",
        "# the actual model we will train)\n",
        "model = Model(inputs=baseModel.input, outputs=headModel)"
      ],
      "execution_count": 12,
      "outputs": []
    },
    {
      "cell_type": "code",
      "metadata": {
        "id": "DnGDsq1JSvMm"
      },
      "source": [
        "# loop over all layers in the base model and freeze them so they will\n",
        "# *not* be updated during the first training process\n",
        "for layer in baseModel.layers:\n",
        "  layer.trainable = False"
      ],
      "execution_count": 13,
      "outputs": []
    },
    {
      "cell_type": "code",
      "metadata": {
        "colab": {
          "base_uri": "https://localhost:8080/"
        },
        "id": "nCJF5QakSzqx",
        "outputId": "25bed7f8-c344-4653-87c3-23e20457d1b3"
      },
      "source": [
        "# compile our model\n",
        "print(\"[INFO] compiling model...\")\n",
        "opt = Adam(learning_rate=INIT_LR, decay=INIT_LR / EPOCHS)\n",
        "model.compile(loss=\"binary_crossentropy\", optimizer=opt,metrics=[\"accuracy\"])"
      ],
      "execution_count": 15,
      "outputs": [
        {
          "output_type": "stream",
          "name": "stdout",
          "text": [
            "[INFO] compiling model...\n"
          ]
        }
      ]
    },
    {
      "cell_type": "code",
      "metadata": {
        "colab": {
          "base_uri": "https://localhost:8080/"
        },
        "id": "vEwQf6IgS9Zm",
        "outputId": "3d71a922-d01a-4d13-c8ec-e61de39be4cf"
      },
      "source": [
        "# train the head of the network\n",
        "print(\"[INFO] training head...\")\n",
        "H = model.fit(\n",
        "\taug.flow(trainX, trainY, batch_size=BS),\n",
        "\tsteps_per_epoch=len(trainX) // BS,\n",
        "\tvalidation_data=(testX, testY),\n",
        "\tvalidation_steps=len(testX) // BS,\n",
        "\tepochs=EPOCHS)"
      ],
      "execution_count": 16,
      "outputs": [
        {
          "output_type": "stream",
          "name": "stdout",
          "text": [
            "[INFO] training head...\n",
            "Epoch 1/20\n",
            "96/96 [==============================] - 73s 430ms/step - loss: 0.4023 - accuracy: 0.8540 - val_loss: 0.1647 - val_accuracy: 0.9766\n",
            "Epoch 2/20\n",
            "96/96 [==============================] - 38s 396ms/step - loss: 0.1541 - accuracy: 0.9668 - val_loss: 0.0873 - val_accuracy: 0.9818\n",
            "Epoch 3/20\n",
            "96/96 [==============================] - 38s 392ms/step - loss: 0.1001 - accuracy: 0.9744 - val_loss: 0.0628 - val_accuracy: 0.9870\n",
            "Epoch 4/20\n",
            "96/96 [==============================] - 37s 389ms/step - loss: 0.0835 - accuracy: 0.9790 - val_loss: 0.0506 - val_accuracy: 0.9883\n",
            "Epoch 5/20\n",
            "96/96 [==============================] - 37s 382ms/step - loss: 0.0693 - accuracy: 0.9806 - val_loss: 0.0438 - val_accuracy: 0.9896\n",
            "Epoch 6/20\n",
            "96/96 [==============================] - 37s 385ms/step - loss: 0.0594 - accuracy: 0.9842 - val_loss: 0.0394 - val_accuracy: 0.9896\n",
            "Epoch 7/20\n",
            "96/96 [==============================] - 36s 379ms/step - loss: 0.0536 - accuracy: 0.9855 - val_loss: 0.0361 - val_accuracy: 0.9896\n",
            "Epoch 8/20\n",
            "96/96 [==============================] - 37s 388ms/step - loss: 0.0531 - accuracy: 0.9832 - val_loss: 0.0312 - val_accuracy: 0.9922\n",
            "Epoch 9/20\n",
            "96/96 [==============================] - 37s 386ms/step - loss: 0.0468 - accuracy: 0.9852 - val_loss: 0.0302 - val_accuracy: 0.9896\n",
            "Epoch 10/20\n",
            "96/96 [==============================] - 36s 376ms/step - loss: 0.0469 - accuracy: 0.9865 - val_loss: 0.0298 - val_accuracy: 0.9909\n",
            "Epoch 11/20\n",
            "96/96 [==============================] - 36s 376ms/step - loss: 0.0401 - accuracy: 0.9888 - val_loss: 0.0286 - val_accuracy: 0.9909\n",
            "Epoch 12/20\n",
            "96/96 [==============================] - 39s 404ms/step - loss: 0.0406 - accuracy: 0.9869 - val_loss: 0.0264 - val_accuracy: 0.9909\n",
            "Epoch 13/20\n",
            "96/96 [==============================] - 39s 406ms/step - loss: 0.0365 - accuracy: 0.9862 - val_loss: 0.0218 - val_accuracy: 0.9961\n",
            "Epoch 14/20\n",
            "96/96 [==============================] - 39s 406ms/step - loss: 0.0380 - accuracy: 0.9892 - val_loss: 0.0223 - val_accuracy: 0.9948\n",
            "Epoch 15/20\n",
            "96/96 [==============================] - 38s 401ms/step - loss: 0.0301 - accuracy: 0.9924 - val_loss: 0.0223 - val_accuracy: 0.9922\n",
            "Epoch 16/20\n",
            "96/96 [==============================] - 39s 408ms/step - loss: 0.0312 - accuracy: 0.9901 - val_loss: 0.0198 - val_accuracy: 0.9948\n",
            "Epoch 17/20\n",
            "96/96 [==============================] - 39s 408ms/step - loss: 0.0275 - accuracy: 0.9921 - val_loss: 0.0210 - val_accuracy: 0.9922\n",
            "Epoch 18/20\n",
            "96/96 [==============================] - 38s 396ms/step - loss: 0.0282 - accuracy: 0.9928 - val_loss: 0.0190 - val_accuracy: 0.9935\n",
            "Epoch 19/20\n",
            "96/96 [==============================] - 38s 396ms/step - loss: 0.0265 - accuracy: 0.9924 - val_loss: 0.0162 - val_accuracy: 0.9948\n",
            "Epoch 20/20\n",
            "96/96 [==============================] - 37s 390ms/step - loss: 0.0260 - accuracy: 0.9931 - val_loss: 0.0189 - val_accuracy: 0.9935\n"
          ]
        }
      ]
    },
    {
      "cell_type": "code",
      "metadata": {
        "colab": {
          "base_uri": "https://localhost:8080/"
        },
        "id": "RNSROzNMWN_r",
        "outputId": "201c5d42-1f1c-4d71-aa8b-4aa52ec21b76"
      },
      "source": [
        "# make predictions on the testing set\n",
        "print(\"[INFO] evaluating network...\")\n",
        "predIdxs = model.predict(testX, batch_size=BS)"
      ],
      "execution_count": 17,
      "outputs": [
        {
          "output_type": "stream",
          "name": "stdout",
          "text": [
            "[INFO] evaluating network...\n"
          ]
        }
      ]
    },
    {
      "cell_type": "code",
      "metadata": {
        "id": "rbv6wzwtWTQL"
      },
      "source": [
        "# for each image in the testing set we need to find the index of the\n",
        "# label with corresponding largest predicted probability\n",
        "predIdxs = np.argmax(predIdxs, axis=1)"
      ],
      "execution_count": 18,
      "outputs": []
    },
    {
      "cell_type": "code",
      "metadata": {
        "colab": {
          "base_uri": "https://localhost:8080/"
        },
        "id": "zPv6QbtLWXIC",
        "outputId": "a5a9060d-9b07-4d55-c8da-c87198bdf29c"
      },
      "source": [
        "# show a nicely formatted classification report\n",
        "print(classification_report(testY.argmax(axis=1), predIdxs,target_names=lb.classes_))"
      ],
      "execution_count": 19,
      "outputs": [
        {
          "output_type": "stream",
          "name": "stdout",
          "text": [
            "              precision    recall  f1-score   support\n",
            "\n",
            "   with_mask       0.99      1.00      0.99       385\n",
            "without_mask       1.00      0.99      0.99       384\n",
            "\n",
            "    accuracy                           0.99       769\n",
            "   macro avg       0.99      0.99      0.99       769\n",
            "weighted avg       0.99      0.99      0.99       769\n",
            "\n"
          ]
        }
      ]
    },
    {
      "cell_type": "code",
      "metadata": {
        "id": "VkLAv0ZsZugC"
      },
      "source": [
        "import datetime"
      ],
      "execution_count": 22,
      "outputs": []
    },
    {
      "cell_type": "code",
      "metadata": {
        "id": "LsbramDTWdwF"
      },
      "source": [
        "#Saving the model\n",
        "def save_model(model,suffix=None):\n",
        "  modeldir=os.path.join(\"drive/MyDrive/FaceMaskdata/models\",\n",
        "                        datetime.datetime.now().strftime(\"%Y%m%d-%H%M%s\"))\n",
        "  model_path=modeldir+\"-\"+suffix+\".h5\"\n",
        "  print(f\"saving model to: {model_path}.....\")\n",
        "  model.save(model_path)\n",
        "  return model_path"
      ],
      "execution_count": 23,
      "outputs": []
    },
    {
      "cell_type": "code",
      "metadata": {
        "colab": {
          "base_uri": "https://localhost:8080/",
          "height": 106
        },
        "id": "PeOYuyW8Y8Yi",
        "outputId": "6aee3d3e-6779-4be7-85f1-ba099715426f"
      },
      "source": [
        "save_model(model,suffix=\"first\")"
      ],
      "execution_count": 24,
      "outputs": [
        {
          "output_type": "stream",
          "name": "stdout",
          "text": [
            "saving model to: drive/MyDrive/FaceMaskdata/models/20211028-14561635433004-first.h5.....\n"
          ]
        },
        {
          "output_type": "stream",
          "name": "stderr",
          "text": [
            "/usr/local/lib/python3.7/dist-packages/keras/utils/generic_utils.py:497: CustomMaskWarning: Custom mask layers require a config and must override get_config. When loading, the custom mask layer must be passed to the custom_objects argument.\n",
            "  category=CustomMaskWarning)\n"
          ]
        },
        {
          "output_type": "execute_result",
          "data": {
            "application/vnd.google.colaboratory.intrinsic+json": {
              "type": "string"
            },
            "text/plain": [
              "'drive/MyDrive/FaceMaskdata/models/20211028-14561635433004-first.h5'"
            ]
          },
          "metadata": {},
          "execution_count": 24
        }
      ]
    },
    {
      "cell_type": "code",
      "metadata": {
        "colab": {
          "base_uri": "https://localhost:8080/",
          "height": 299
        },
        "id": "Zn-25e34aDCu",
        "outputId": "dbdf3da2-2e95-4408-b70a-6344ec3d1c2b"
      },
      "source": [
        "# plot the training loss and accuracy\n",
        "N = EPOCHS\n",
        "plt.style.use(\"ggplot\")\n",
        "plt.figure()\n",
        "plt.plot(np.arange(0, N), H.history[\"loss\"], label=\"train_loss\")\n",
        "plt.plot(np.arange(0, N), H.history[\"val_loss\"], label=\"val_loss\")\n",
        "plt.plot(np.arange(0, N), H.history[\"accuracy\"], label=\"train_acc\")\n",
        "plt.plot(np.arange(0, N), H.history[\"val_accuracy\"], label=\"val_acc\")\n",
        "plt.title(\"Training Loss and Accuracy\")\n",
        "plt.xlabel(\"Epoch #\")\n",
        "plt.ylabel(\"Loss/Accuracy\")\n",
        "plt.legend(loc=\"lower left\")\n",
        "plt.savefig(\"plot.png\")"
      ],
      "execution_count": 25,
      "outputs": [
        {
          "output_type": "display_data",
          "data": {
            "image/png": "[encoded data removed]",
            "text/plain": [
              "<Figure size 432x288 with 1 Axes>"
            ]
          },
          "metadata": {}
        }
      ]
    }
  ]
}